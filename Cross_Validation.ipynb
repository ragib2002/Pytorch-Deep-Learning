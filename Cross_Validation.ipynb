{
  "nbformat": 4,
  "nbformat_minor": 0,
  "metadata": {
    "colab": {
      "provenance": []
    },
    "kernelspec": {
      "name": "python3",
      "display_name": "Python 3"
    },
    "language_info": {
      "name": "python"
    }
  },
  "cells": [
    {
      "cell_type": "code",
      "execution_count": 11,
      "metadata": {
        "id": "oVE6nkQOEbDJ"
      },
      "outputs": [],
      "source": [
        "import torch\n",
        "import torch.nn as nn\n",
        "import numpy as np\n",
        "from sklearn.model_selection import train_test_split"
      ]
    },
    {
      "cell_type": "code",
      "source": [
        "import seaborn as sns\n",
        "iris = sns.load_dataset('iris')\n",
        "data = torch.tensor( iris[iris.columns[0:4]].values ).float()\n",
        "labels = torch.zeros(len(data), dtype=torch.long)\n",
        "labels[iris.species=='versicolor'] = 1\n",
        "labels[iris.species=='virginica'] = 2"
      ],
      "metadata": {
        "id": "lOQ6b5KZEeS5"
      },
      "execution_count": 12,
      "outputs": []
    },
    {
      "cell_type": "code",
      "source": [
        "ANNiris = nn.Sequential(\n",
        "      nn.Linear(4,64),   # input layer\n",
        "      nn.ReLU(),         # activation unit\n",
        "      nn.Linear(64,64),  # hidden layer\n",
        "      nn.ReLU(),         # activation unit\n",
        "      nn.Linear(64,3),   # output units\n",
        "        )\n",
        "lossfun = nn.CrossEntropyLoss()\n",
        "optimizer = torch.optim.SGD(ANNiris.parameters(),lr=.01)"
      ],
      "metadata": {
        "id": "-rzLk0Z0EoV_"
      },
      "execution_count": 13,
      "outputs": []
    },
    {
      "cell_type": "code",
      "source": [
        "numepochs = 1000\n",
        "X_train,X_test, y_train,y_test = train_test_split(data,labels, train_size=.8)\n",
        "for epochi in range(numepochs):\n",
        "    yHat = ANNiris(X_train)\n",
        "    loss = lossfun(yHat,y_train)\n",
        "    optimizer.zero_grad()\n",
        "    loss.backward()\n",
        "    optimizer.step()"
      ],
      "metadata": {
        "id": "B_HHZ_r3FB3g"
      },
      "execution_count": 14,
      "outputs": []
    },
    {
      "cell_type": "code",
      "source": [
        "predlabels = torch.argmax( ANNiris(X_test),axis=1 )\n",
        "accuracy = ( 100*torch.mean((predlabels == y_test).float()).item() )\n",
        "print(accuracy)"
      ],
      "metadata": {
        "id": "TTtrKctZFsg0"
      },
      "execution_count": null,
      "outputs": []
    }
  ]
}