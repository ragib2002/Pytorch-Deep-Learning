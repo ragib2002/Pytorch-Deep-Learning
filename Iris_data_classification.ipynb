{
  "nbformat": 4,
  "nbformat_minor": 0,
  "metadata": {
    "colab": {
      "provenance": []
    },
    "kernelspec": {
      "name": "python3",
      "display_name": "Python 3"
    },
    "language_info": {
      "name": "python"
    }
  },
  "cells": [
    {
      "cell_type": "code",
      "execution_count": 1,
      "metadata": {
        "colab": {
          "base_uri": "https://localhost:8080/"
        },
        "id": "G4Ss3pCdtPpI",
        "outputId": "beb716ef-7313-40a7-e2ec-c510c732afcc"
      },
      "outputs": [
        {
          "output_type": "stream",
          "name": "stderr",
          "text": [
            "<ipython-input-1-ebc0f145a47d>:5: DeprecationWarning: `set_matplotlib_formats` is deprecated since IPython 7.23, directly use `matplotlib_inline.backend_inline.set_matplotlib_formats()`\n",
            "  display.set_matplotlib_formats('svg')\n"
          ]
        }
      ],
      "source": [
        "import torch\n",
        "import torch.nn as nn\n",
        "import matplotlib.pyplot as plt\n",
        "from IPython import display\n",
        "display.set_matplotlib_formats('svg')"
      ]
    },
    {
      "cell_type": "code",
      "source": [
        "import seaborn as sns\n",
        "iris = sns.load_dataset('iris')\n",
        "\n",
        "data = torch.tensor( iris[iris.columns[0:4]].values ).float()\n",
        "labels = torch.zeros(len(data), dtype=torch.long)\n",
        "labels[iris.species=='versicolor'] = 1\n",
        "labels[iris.species=='virginica'] = 2"
      ],
      "metadata": {
        "id": "6aYQTOu_tlpU"
      },
      "execution_count": 2,
      "outputs": []
    },
    {
      "cell_type": "code",
      "source": [
        "ANNiris = nn.Sequential(\n",
        "    nn.Linear(4,64),\n",
        "    nn.ReLU(),\n",
        "    nn.Linear(64,64),\n",
        "    nn.ReLU(),\n",
        "    nn.Linear(64,3),\n",
        "      )\n",
        "\n",
        "lossfun = nn.CrossEntropyLoss()\n",
        "optimizer = torch.optim.SGD(ANNiris.parameters(),lr=.01)"
      ],
      "metadata": {
        "id": "4bz7AWiytx40"
      },
      "execution_count": 4,
      "outputs": []
    },
    {
      "cell_type": "code",
      "source": [
        "numepochs = 1000\n",
        "\n",
        "for epochi in range(numepochs):\n",
        "    yHat = ANNiris(data)\n",
        "    loss = lossfun(yHat,labels)\n",
        "\n",
        "    optimizer.zero_grad()\n",
        "    loss.backward()\n",
        "    optimizer.step()"
      ],
      "metadata": {
        "id": "rGJnbTALt8lT"
      },
      "execution_count": 5,
      "outputs": []
    },
    {
      "cell_type": "code",
      "source": [
        "predictions = ANNiris(data)\n",
        "predlabels = torch.argmax(predictions,axis=1)\n",
        "totalacc = 100*torch.mean((predlabels == labels).float())\n",
        "print(totalacc)"
      ],
      "metadata": {
        "colab": {
          "base_uri": "https://localhost:8080/"
        },
        "id": "yUy30yMauk__",
        "outputId": "7145dc6f-834c-402d-f29d-86c41053bacb"
      },
      "execution_count": 6,
      "outputs": [
        {
          "output_type": "stream",
          "name": "stdout",
          "text": [
            "tensor(98.)\n"
          ]
        }
      ]
    }
  ]
}